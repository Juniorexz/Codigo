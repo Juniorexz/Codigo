{
  "nbformat": 4,
  "nbformat_minor": 0,
  "metadata": {
    "colab": {
      "name": "Untitled11.ipynb",
      "provenance": [],
      "authorship_tag": "ABX9TyPH/xQgnlznltbZF9Fivkro",
      "include_colab_link": true
    },
    "kernelspec": {
      "name": "python3",
      "display_name": "Python 3"
    },
    "language_info": {
      "name": "python"
    }
  },
  "cells": [
    {
      "cell_type": "markdown",
      "metadata": {
        "id": "view-in-github",
        "colab_type": "text"
      },
      "source": [
        "<a href=\"https://colab.research.google.com/github/Juniorexz/Codigo/blob/master/Minera%C3%A7%C3%A3o%20de%20dados%20com%20Python.ipynb\" target=\"_parent\"><img src=\"https://colab.research.google.com/assets/colab-badge.svg\" alt=\"Open In Colab\"/></a>"
      ]
    },
    {
      "cell_type": "code",
      "execution_count": 8,
      "metadata": {
        "id": "BUE065EsQ5Iv"
      },
      "outputs": [],
      "source": [
        "#data manipulation\n",
        "import numpy as np\n",
        "import pandas as pd\n",
        "import geopandas as gpd\n",
        "\n",
        "#data visualization\n",
        "import geobr\n",
        "import seaborn as sns\n",
        "import matplotlib.pyplot as plt"
      ]
    },
    {
      "cell_type": "code",
      "source": [
        "#exemplo 1 (lista e tupla)\n",
        "series = pd.Series([10, 11, 90, 1])\n",
        "\n",
        "# ou : pd.Series((7, 8, 9, 10,11))"
      ],
      "metadata": {
        "id": "OSBkZ-znSD07"
      },
      "execution_count": 9,
      "outputs": []
    },
    {
      "cell_type": "code",
      "source": [
        "type(series)"
      ],
      "metadata": {
        "colab": {
          "base_uri": "https://localhost:8080/"
        },
        "id": "drktxZF_STmO",
        "outputId": "66af15f4-662b-4774-a1f5-d51e4bd96ef7"
      },
      "execution_count": 10,
      "outputs": [
        {
          "output_type": "execute_result",
          "data": {
            "text/plain": [
              "pandas.core.series.Series"
            ]
          },
          "metadata": {},
          "execution_count": 10
        }
      ]
    },
    {
      "cell_type": "code",
      "source": [
        "series #subconjunto dos dados"
      ],
      "metadata": {
        "colab": {
          "base_uri": "https://localhost:8080/"
        },
        "id": "luJtcQqXTCf3",
        "outputId": "21481909-95cb-4e8d-f704-a8bce73ed772"
      },
      "execution_count": 11,
      "outputs": [
        {
          "output_type": "execute_result",
          "data": {
            "text/plain": [
              "0    10\n",
              "1    11\n",
              "2    90\n",
              "3     1\n",
              "dtype: int64"
            ]
          },
          "metadata": {},
          "execution_count": 11
        }
      ]
    },
    {
      "cell_type": "code",
      "source": [
        "dir(series)"
      ],
      "metadata": {
        "colab": {
          "base_uri": "https://localhost:8080/"
        },
        "id": "oKLanz8dTDEf",
        "outputId": "2d6ebf84-0ac1-410e-cc41-bfe1de7ec2d6"
      },
      "execution_count": 12,
      "outputs": [
        {
          "output_type": "execute_result",
          "data": {
            "text/plain": [
              "['T',\n",
              " '_AXIS_LEN',\n",
              " '_AXIS_ORDERS',\n",
              " '_AXIS_REVERSED',\n",
              " '_AXIS_TO_AXIS_NUMBER',\n",
              " '_HANDLED_TYPES',\n",
              " '__abs__',\n",
              " '__add__',\n",
              " '__and__',\n",
              " '__annotations__',\n",
              " '__array__',\n",
              " '__array_priority__',\n",
              " '__array_ufunc__',\n",
              " '__array_wrap__',\n",
              " '__bool__',\n",
              " '__class__',\n",
              " '__contains__',\n",
              " '__copy__',\n",
              " '__deepcopy__',\n",
              " '__delattr__',\n",
              " '__delitem__',\n",
              " '__dict__',\n",
              " '__dir__',\n",
              " '__divmod__',\n",
              " '__doc__',\n",
              " '__eq__',\n",
              " '__finalize__',\n",
              " '__float__',\n",
              " '__floordiv__',\n",
              " '__format__',\n",
              " '__ge__',\n",
              " '__getattr__',\n",
              " '__getattribute__',\n",
              " '__getitem__',\n",
              " '__getstate__',\n",
              " '__gt__',\n",
              " '__hash__',\n",
              " '__iadd__',\n",
              " '__iand__',\n",
              " '__ifloordiv__',\n",
              " '__imod__',\n",
              " '__imul__',\n",
              " '__init__',\n",
              " '__init_subclass__',\n",
              " '__int__',\n",
              " '__invert__',\n",
              " '__ior__',\n",
              " '__ipow__',\n",
              " '__isub__',\n",
              " '__iter__',\n",
              " '__itruediv__',\n",
              " '__ixor__',\n",
              " '__le__',\n",
              " '__len__',\n",
              " '__long__',\n",
              " '__lt__',\n",
              " '__matmul__',\n",
              " '__mod__',\n",
              " '__module__',\n",
              " '__mul__',\n",
              " '__ne__',\n",
              " '__neg__',\n",
              " '__new__',\n",
              " '__nonzero__',\n",
              " '__or__',\n",
              " '__pos__',\n",
              " '__pow__',\n",
              " '__radd__',\n",
              " '__rand__',\n",
              " '__rdivmod__',\n",
              " '__reduce__',\n",
              " '__reduce_ex__',\n",
              " '__repr__',\n",
              " '__rfloordiv__',\n",
              " '__rmatmul__',\n",
              " '__rmod__',\n",
              " '__rmul__',\n",
              " '__ror__',\n",
              " '__round__',\n",
              " '__rpow__',\n",
              " '__rsub__',\n",
              " '__rtruediv__',\n",
              " '__rxor__',\n",
              " '__setattr__',\n",
              " '__setitem__',\n",
              " '__setstate__',\n",
              " '__sizeof__',\n",
              " '__str__',\n",
              " '__sub__',\n",
              " '__subclasshook__',\n",
              " '__truediv__',\n",
              " '__weakref__',\n",
              " '__xor__',\n",
              " '_accessors',\n",
              " '_accum_func',\n",
              " '_add_numeric_operations',\n",
              " '_agg_by_level',\n",
              " '_agg_examples_doc',\n",
              " '_agg_see_also_doc',\n",
              " '_align_frame',\n",
              " '_align_series',\n",
              " '_arith_method',\n",
              " '_as_manager',\n",
              " '_attrs',\n",
              " '_binop',\n",
              " '_can_hold_na',\n",
              " '_check_inplace_and_allows_duplicate_labels',\n",
              " '_check_inplace_setting',\n",
              " '_check_is_chained_assignment_possible',\n",
              " '_check_label_or_level_ambiguity',\n",
              " '_check_setitem_copy',\n",
              " '_clear_item_cache',\n",
              " '_clip_with_one_bound',\n",
              " '_clip_with_scalar',\n",
              " '_cmp_method',\n",
              " '_consolidate',\n",
              " '_consolidate_inplace',\n",
              " '_construct_axes_dict',\n",
              " '_construct_axes_from_arguments',\n",
              " '_construct_result',\n",
              " '_constructor',\n",
              " '_constructor_expanddim',\n",
              " '_convert',\n",
              " '_convert_dtypes',\n",
              " '_data',\n",
              " '_dir_additions',\n",
              " '_dir_deletions',\n",
              " '_drop_axis',\n",
              " '_drop_labels_or_levels',\n",
              " '_duplicated',\n",
              " '_find_valid_index',\n",
              " '_flags',\n",
              " '_from_mgr',\n",
              " '_get_axis',\n",
              " '_get_axis_name',\n",
              " '_get_axis_number',\n",
              " '_get_axis_resolvers',\n",
              " '_get_block_manager_axis',\n",
              " '_get_bool_data',\n",
              " '_get_cacher',\n",
              " '_get_cleaned_column_resolvers',\n",
              " '_get_index_resolvers',\n",
              " '_get_label_or_level_values',\n",
              " '_get_numeric_data',\n",
              " '_get_value',\n",
              " '_get_values',\n",
              " '_get_values_tuple',\n",
              " '_get_with',\n",
              " '_gotitem',\n",
              " '_hidden_attrs',\n",
              " '_index',\n",
              " '_indexed_same',\n",
              " '_info_axis',\n",
              " '_info_axis_name',\n",
              " '_info_axis_number',\n",
              " '_init_dict',\n",
              " '_init_mgr',\n",
              " '_inplace_method',\n",
              " '_internal_names',\n",
              " '_internal_names_set',\n",
              " '_is_cached',\n",
              " '_is_copy',\n",
              " '_is_label_or_level_reference',\n",
              " '_is_label_reference',\n",
              " '_is_level_reference',\n",
              " '_is_mixed_type',\n",
              " '_is_view',\n",
              " '_item_cache',\n",
              " '_ixs',\n",
              " '_logical_func',\n",
              " '_logical_method',\n",
              " '_map_values',\n",
              " '_maybe_update_cacher',\n",
              " '_memory_usage',\n",
              " '_metadata',\n",
              " '_mgr',\n",
              " '_min_count_stat_function',\n",
              " '_name',\n",
              " '_needs_reindex_multi',\n",
              " '_protect_consolidate',\n",
              " '_reduce',\n",
              " '_reindex_axes',\n",
              " '_reindex_indexer',\n",
              " '_reindex_multi',\n",
              " '_reindex_with_indexers',\n",
              " '_replace_single',\n",
              " '_repr_data_resource_',\n",
              " '_repr_latex_',\n",
              " '_reset_cache',\n",
              " '_reset_cacher',\n",
              " '_set_as_cached',\n",
              " '_set_axis',\n",
              " '_set_axis_name',\n",
              " '_set_axis_nocheck',\n",
              " '_set_is_copy',\n",
              " '_set_labels',\n",
              " '_set_name',\n",
              " '_set_value',\n",
              " '_set_values',\n",
              " '_set_with',\n",
              " '_set_with_engine',\n",
              " '_slice',\n",
              " '_stat_axis',\n",
              " '_stat_axis_name',\n",
              " '_stat_axis_number',\n",
              " '_stat_function',\n",
              " '_stat_function_ddof',\n",
              " '_take_with_is_copy',\n",
              " '_typ',\n",
              " '_update_inplace',\n",
              " '_validate_dtype',\n",
              " '_values',\n",
              " '_where',\n",
              " 'abs',\n",
              " 'add',\n",
              " 'add_prefix',\n",
              " 'add_suffix',\n",
              " 'agg',\n",
              " 'aggregate',\n",
              " 'align',\n",
              " 'all',\n",
              " 'any',\n",
              " 'append',\n",
              " 'apply',\n",
              " 'argmax',\n",
              " 'argmin',\n",
              " 'argsort',\n",
              " 'array',\n",
              " 'asfreq',\n",
              " 'asof',\n",
              " 'astype',\n",
              " 'at',\n",
              " 'at_time',\n",
              " 'attrs',\n",
              " 'autocorr',\n",
              " 'axes',\n",
              " 'backfill',\n",
              " 'between',\n",
              " 'between_time',\n",
              " 'bfill',\n",
              " 'bool',\n",
              " 'clip',\n",
              " 'combine',\n",
              " 'combine_first',\n",
              " 'compare',\n",
              " 'convert_dtypes',\n",
              " 'copy',\n",
              " 'corr',\n",
              " 'count',\n",
              " 'cov',\n",
              " 'cummax',\n",
              " 'cummin',\n",
              " 'cumprod',\n",
              " 'cumsum',\n",
              " 'describe',\n",
              " 'diff',\n",
              " 'div',\n",
              " 'divide',\n",
              " 'divmod',\n",
              " 'dot',\n",
              " 'drop',\n",
              " 'drop_duplicates',\n",
              " 'droplevel',\n",
              " 'dropna',\n",
              " 'dtype',\n",
              " 'dtypes',\n",
              " 'duplicated',\n",
              " 'empty',\n",
              " 'eq',\n",
              " 'equals',\n",
              " 'ewm',\n",
              " 'expanding',\n",
              " 'explode',\n",
              " 'factorize',\n",
              " 'ffill',\n",
              " 'fillna',\n",
              " 'filter',\n",
              " 'first',\n",
              " 'first_valid_index',\n",
              " 'flags',\n",
              " 'floordiv',\n",
              " 'ge',\n",
              " 'get',\n",
              " 'groupby',\n",
              " 'gt',\n",
              " 'hasnans',\n",
              " 'head',\n",
              " 'hist',\n",
              " 'iat',\n",
              " 'idxmax',\n",
              " 'idxmin',\n",
              " 'iloc',\n",
              " 'index',\n",
              " 'infer_objects',\n",
              " 'interpolate',\n",
              " 'is_monotonic',\n",
              " 'is_monotonic_decreasing',\n",
              " 'is_monotonic_increasing',\n",
              " 'is_unique',\n",
              " 'isin',\n",
              " 'isna',\n",
              " 'isnull',\n",
              " 'item',\n",
              " 'items',\n",
              " 'iteritems',\n",
              " 'keys',\n",
              " 'kurt',\n",
              " 'kurtosis',\n",
              " 'last',\n",
              " 'last_valid_index',\n",
              " 'le',\n",
              " 'loc',\n",
              " 'lt',\n",
              " 'mad',\n",
              " 'map',\n",
              " 'mask',\n",
              " 'max',\n",
              " 'mean',\n",
              " 'median',\n",
              " 'memory_usage',\n",
              " 'min',\n",
              " 'mod',\n",
              " 'mode',\n",
              " 'mul',\n",
              " 'multiply',\n",
              " 'name',\n",
              " 'nbytes',\n",
              " 'ndim',\n",
              " 'ne',\n",
              " 'nlargest',\n",
              " 'notna',\n",
              " 'notnull',\n",
              " 'nsmallest',\n",
              " 'nunique',\n",
              " 'pad',\n",
              " 'pct_change',\n",
              " 'pipe',\n",
              " 'plot',\n",
              " 'pop',\n",
              " 'pow',\n",
              " 'prod',\n",
              " 'product',\n",
              " 'quantile',\n",
              " 'radd',\n",
              " 'rank',\n",
              " 'ravel',\n",
              " 'rdiv',\n",
              " 'rdivmod',\n",
              " 'reindex',\n",
              " 'reindex_like',\n",
              " 'rename',\n",
              " 'rename_axis',\n",
              " 'reorder_levels',\n",
              " 'repeat',\n",
              " 'replace',\n",
              " 'resample',\n",
              " 'reset_index',\n",
              " 'rfloordiv',\n",
              " 'rmod',\n",
              " 'rmul',\n",
              " 'rolling',\n",
              " 'round',\n",
              " 'rpow',\n",
              " 'rsub',\n",
              " 'rtruediv',\n",
              " 'sample',\n",
              " 'searchsorted',\n",
              " 'sem',\n",
              " 'set_axis',\n",
              " 'set_flags',\n",
              " 'shape',\n",
              " 'shift',\n",
              " 'size',\n",
              " 'skew',\n",
              " 'slice_shift',\n",
              " 'sort_index',\n",
              " 'sort_values',\n",
              " 'squeeze',\n",
              " 'std',\n",
              " 'sub',\n",
              " 'subtract',\n",
              " 'sum',\n",
              " 'swapaxes',\n",
              " 'swaplevel',\n",
              " 'tail',\n",
              " 'take',\n",
              " 'to_clipboard',\n",
              " 'to_csv',\n",
              " 'to_dict',\n",
              " 'to_excel',\n",
              " 'to_frame',\n",
              " 'to_hdf',\n",
              " 'to_json',\n",
              " 'to_latex',\n",
              " 'to_list',\n",
              " 'to_markdown',\n",
              " 'to_numpy',\n",
              " 'to_period',\n",
              " 'to_pickle',\n",
              " 'to_sql',\n",
              " 'to_string',\n",
              " 'to_timestamp',\n",
              " 'to_xarray',\n",
              " 'transform',\n",
              " 'transpose',\n",
              " 'truediv',\n",
              " 'truncate',\n",
              " 'tz_convert',\n",
              " 'tz_localize',\n",
              " 'unique',\n",
              " 'unstack',\n",
              " 'update',\n",
              " 'value_counts',\n",
              " 'values',\n",
              " 'var',\n",
              " 'view',\n",
              " 'where',\n",
              " 'xs']"
            ]
          },
          "metadata": {},
          "execution_count": 12
        }
      ]
    },
    {
      "cell_type": "code",
      "source": [
        "lista_1 = [8,9]\n",
        "lista_2 = [9,8]"
      ],
      "metadata": {
        "id": "jl5aFnjHTDsW"
      },
      "execution_count": 13,
      "outputs": []
    },
    {
      "cell_type": "code",
      "source": [
        "lista_1+lista_2"
      ],
      "metadata": {
        "colab": {
          "base_uri": "https://localhost:8080/"
        },
        "id": "cIMA2VdKVhud",
        "outputId": "9bc4cc0f-61c5-41c2-d065-ffc9077778d9"
      },
      "execution_count": 14,
      "outputs": [
        {
          "output_type": "execute_result",
          "data": {
            "text/plain": [
              "[8, 9, 9, 8]"
            ]
          },
          "metadata": {},
          "execution_count": 14
        }
      ]
    },
    {
      "cell_type": "code",
      "source": [
        "vetor_1 = np.array(lista_1)\n",
        "vetor_2 = np.array(lista_2)\n"
      ],
      "metadata": {
        "id": "DbPvHgd5Wiq9"
      },
      "execution_count": 15,
      "outputs": []
    },
    {
      "cell_type": "code",
      "source": [
        "vetor_1+vetor_2"
      ],
      "metadata": {
        "colab": {
          "base_uri": "https://localhost:8080/"
        },
        "id": "xZC0_oP2W08l",
        "outputId": "69969085-b5c0-4ce3-ca74-22fb0b1626db"
      },
      "execution_count": 16,
      "outputs": [
        {
          "output_type": "execute_result",
          "data": {
            "text/plain": [
              "array([17, 17])"
            ]
          },
          "metadata": {},
          "execution_count": 16
        }
      ]
    },
    {
      "cell_type": "code",
      "source": [
        "vetor_1.mean()"
      ],
      "metadata": {
        "colab": {
          "base_uri": "https://localhost:8080/"
        },
        "id": "RUs_AP6AW5NU",
        "outputId": "29eed05c-8afc-4e63-899d-b34cb62496a7"
      },
      "execution_count": 17,
      "outputs": [
        {
          "output_type": "execute_result",
          "data": {
            "text/plain": [
              "8.5"
            ]
          },
          "metadata": {},
          "execution_count": 17
        }
      ]
    },
    {
      "cell_type": "code",
      "source": [
        "# exemplço 2 (ndarray)\n",
        "pd.Series(np.array(['h','i','j','z']), index = [1,2,3,4])"
      ],
      "metadata": {
        "colab": {
          "base_uri": "https://localhost:8080/"
        },
        "id": "rzDvABAaXEcN",
        "outputId": "7b4d53c5-c15b-4fbd-f51e-d85b6b003ac0"
      },
      "execution_count": 18,
      "outputs": [
        {
          "output_type": "execute_result",
          "data": {
            "text/plain": [
              "1    h\n",
              "2    i\n",
              "3    j\n",
              "4    z\n",
              "dtype: object"
            ]
          },
          "metadata": {},
          "execution_count": 18
        }
      ]
    },
    {
      "cell_type": "code",
      "source": [
        "#(Dicionário)\n",
        "pd.Series({'a':9, 'b': 1, 'c':10})"
      ],
      "metadata": {
        "colab": {
          "base_uri": "https://localhost:8080/"
        },
        "id": "MNi3SEoJXdYN",
        "outputId": "1f0c69d4-6374-4694-d8ab-709877d19708"
      },
      "execution_count": 19,
      "outputs": [
        {
          "output_type": "execute_result",
          "data": {
            "text/plain": [
              "a     9\n",
              "b     1\n",
              "c    10\n",
              "dtype: int64"
            ]
          },
          "metadata": {},
          "execution_count": 19
        }
      ]
    },
    {
      "cell_type": "code",
      "source": [
        "pd.Series(1, index = np.arange(1, 21))"
      ],
      "metadata": {
        "colab": {
          "base_uri": "https://localhost:8080/"
        },
        "id": "Z556rrcZX6ul",
        "outputId": "61df5c82-3b8b-44de-9af6-d15c446f991b"
      },
      "execution_count": 3,
      "outputs": [
        {
          "output_type": "execute_result",
          "data": {
            "text/plain": [
              "1     1\n",
              "2     1\n",
              "3     1\n",
              "4     1\n",
              "5     1\n",
              "6     1\n",
              "7     1\n",
              "8     1\n",
              "9     1\n",
              "10    1\n",
              "11    1\n",
              "12    1\n",
              "13    1\n",
              "14    1\n",
              "15    1\n",
              "16    1\n",
              "17    1\n",
              "18    1\n",
              "19    1\n",
              "20    1\n",
              "dtype: int64"
            ]
          },
          "metadata": {},
          "execution_count": 3
        }
      ]
    },
    {
      "cell_type": "code",
      "source": [
        "#random = Números inteiros aleatórios\n",
        "#np.random.seed(7) - Com o seed a aleatoriedade vai continuar\n",
        "data = np.random.randint(low = 1, high = 1000, size = 8)\n",
        "index = ['a', 'b', 'c', 'd', 'e','f', 'g', 'h']\n",
        "series = pd.Series(data, index = index)\n",
        "series"
      ],
      "metadata": {
        "colab": {
          "base_uri": "https://localhost:8080/"
        },
        "id": "CMY2yGDFY8wE",
        "outputId": "8c4677eb-3f5d-4011-ab5c-cf42c19aeb15"
      },
      "execution_count": 2,
      "outputs": [
        {
          "output_type": "execute_result",
          "data": {
            "text/plain": [
              "a    441\n",
              "b    194\n",
              "c    210\n",
              "d    820\n",
              "e    250\n",
              "f    121\n",
              "g    204\n",
              "h    489\n",
              "dtype: int64"
            ]
          },
          "metadata": {},
          "execution_count": 2
        }
      ]
    },
    {
      "cell_type": "code",
      "source": [
        "# Os 5 primeiros elementos\n",
        "series.head()"
      ],
      "metadata": {
        "colab": {
          "base_uri": "https://localhost:8080/"
        },
        "id": "mIJF4hyzbMr-",
        "outputId": "8c05d79c-c78d-4552-ce52-52932f3c8018"
      },
      "execution_count": 20,
      "outputs": [
        {
          "output_type": "execute_result",
          "data": {
            "text/plain": [
              "0    10\n",
              "1    11\n",
              "2    90\n",
              "3     1\n",
              "dtype: int64"
            ]
          },
          "metadata": {},
          "execution_count": 20
        }
      ]
    },
    {
      "cell_type": "code",
      "source": [
        "pop install!\n"
      ],
      "metadata": {
        "id": "tazIiUQscB8k",
        "colab": {
          "base_uri": "https://localhost:8080/",
          "height": 135
        },
        "outputId": "24d6bc74-81ce-436d-ebd6-b7a160a0f5bd"
      },
      "execution_count": 16,
      "outputs": [
        {
          "output_type": "error",
          "ename": "SyntaxError",
          "evalue": "ignored",
          "traceback": [
            "\u001b[0;36m  File \u001b[0;32m\"<ipython-input-16-2596f75ad588>\"\u001b[0;36m, line \u001b[0;32m1\u001b[0m\n\u001b[0;31m    pop install!\u001b[0m\n\u001b[0m              ^\u001b[0m\n\u001b[0;31mSyntaxError\u001b[0m\u001b[0;31m:\u001b[0m invalid syntax\n"
          ]
        }
      ]
    },
    {
      "cell_type": "code",
      "source": [
        "!pip install Fiona -- quiet"
      ],
      "metadata": {
        "id": "aiBvW9nPn_D1",
        "colab": {
          "base_uri": "https://localhost:8080/"
        },
        "outputId": "2bfe5c0b-7d8a-410b-97b4-1454098edf54"
      },
      "execution_count": 21,
      "outputs": [
        {
          "output_type": "stream",
          "name": "stdout",
          "text": [
            "Requirement already satisfied: Fiona in /usr/local/lib/python3.7/dist-packages (1.8.21)\n",
            "\u001b[31mERROR: Could not find a version that satisfies the requirement quiet (from versions: none)\u001b[0m\n",
            "\u001b[31mERROR: No matching distribution found for quiet\u001b[0m\n"
          ]
        }
      ]
    },
    {
      "cell_type": "code",
      "source": [
        "!pip install Fiona-1.8.20-cp38-cp38-win_amd64 --quiet"
      ],
      "metadata": {
        "id": "DRD7wkHoo9yY"
      },
      "execution_count": null,
      "outputs": []
    },
    {
      "cell_type": "code",
      "source": [
        "!pip install Fiona-1.8.20-cp310-cp310-win_amd64 -quiet"
      ],
      "metadata": {
        "id": "DQFSTIChpbjW"
      },
      "execution_count": null,
      "outputs": []
    },
    {
      "cell_type": "code",
      "source": [
        "!pip install geopandas-0.10.2-py2.py3-none-any -quiet"
      ],
      "metadata": {
        "id": "O7QWlM9Gp6m-"
      },
      "execution_count": null,
      "outputs": []
    },
    {
      "cell_type": "code",
      "source": [
        "!pip install GDAL-3.3.3-cp310-cp310-win_amd64 -quiet"
      ],
      "metadata": {
        "id": "M16mkPqOtiKe"
      },
      "execution_count": null,
      "outputs": []
    },
    {
      "cell_type": "code",
      "source": [
        ""
      ],
      "metadata": {
        "id": "POcU2MYRt08O"
      },
      "execution_count": null,
      "outputs": []
    },
    {
      "cell_type": "code",
      "source": [
        "!pip install geopandas-0.10.2-py2.py3-none-any -quiet"
      ],
      "metadata": {
        "id": "Zg9S7QLovieg"
      },
      "execution_count": null,
      "outputs": []
    },
    {
      "cell_type": "code",
      "source": [
        "!pip install geopandas-0.6.2-py2.py3-none-any"
      ],
      "metadata": {
        "id": "1H0TMaIMvmih"
      },
      "execution_count": null,
      "outputs": []
    },
    {
      "cell_type": "code",
      "source": [
        "geopandas-0.6.2-py2.py3-none-any -quiet"
      ],
      "metadata": {
        "colab": {
          "base_uri": "https://localhost:8080/",
          "height": 135
        },
        "id": "mQkD9RnyvvMv",
        "outputId": "933ed5bf-c778-4b4e-93c1-499e9707b263"
      },
      "execution_count": 3,
      "outputs": [
        {
          "output_type": "error",
          "ename": "SyntaxError",
          "evalue": "ignored",
          "traceback": [
            "\u001b[0;36m  File \u001b[0;32m\"<ipython-input-3-b35ba21b9d5a>\"\u001b[0;36m, line \u001b[0;32m1\u001b[0m\n\u001b[0;31m    geopandas-0.6.2-py2.py3-none-any -quiet\u001b[0m\n\u001b[0m                  ^\u001b[0m\n\u001b[0;31mSyntaxError\u001b[0m\u001b[0;31m:\u001b[0m invalid syntax\n"
          ]
        }
      ]
    },
    {
      "cell_type": "code",
      "source": [
        "!pip install geopandas-0.6.2-py2.py3-none-any -quiet"
      ],
      "metadata": {
        "colab": {
          "base_uri": "https://localhost:8080/"
        },
        "id": "oAwcf92Avy4n",
        "outputId": "754d1017-8dab-4151-d3d0-a27889c16b53"
      },
      "execution_count": 2,
      "outputs": [
        {
          "output_type": "stream",
          "name": "stdout",
          "text": [
            "\n",
            "Usage:   \n",
            "  pip3 install [options] <requirement specifier> [package-index-options] ...\n",
            "  pip3 install [options] -r <requirements file> [package-index-options] ...\n",
            "  pip3 install [options] [-e] <vcs project url> ...\n",
            "  pip3 install [options] [-e] <local project path> ...\n",
            "  pip3 install [options] <archive url/path> ...\n",
            "\n",
            "no such option: -u\n"
          ]
        }
      ]
    },
    {
      "cell_type": "code",
      "source": [
        "!pip install geopandas"
      ],
      "metadata": {
        "id": "hqxn9a_nv6WI",
        "colab": {
          "base_uri": "https://localhost:8080/"
        },
        "outputId": "13adafaa-e949-445d-9068-bb9be7437f8d"
      },
      "execution_count": 4,
      "outputs": [
        {
          "output_type": "stream",
          "name": "stdout",
          "text": [
            "Collecting geopandas\n",
            "  Downloading geopandas-0.10.2-py2.py3-none-any.whl (1.0 MB)\n",
            "\u001b[?25l\r\u001b[K     |▎                               | 10 kB 21.1 MB/s eta 0:00:01\r\u001b[K     |▋                               | 20 kB 25.1 MB/s eta 0:00:01\r\u001b[K     |█                               | 30 kB 30.9 MB/s eta 0:00:01\r\u001b[K     |█▎                              | 40 kB 24.8 MB/s eta 0:00:01\r\u001b[K     |█▋                              | 51 kB 19.8 MB/s eta 0:00:01\r\u001b[K     |██                              | 61 kB 22.5 MB/s eta 0:00:01\r\u001b[K     |██▎                             | 71 kB 22.5 MB/s eta 0:00:01\r\u001b[K     |██▌                             | 81 kB 23.6 MB/s eta 0:00:01\r\u001b[K     |██▉                             | 92 kB 25.3 MB/s eta 0:00:01\r\u001b[K     |███▏                            | 102 kB 24.7 MB/s eta 0:00:01\r\u001b[K     |███▌                            | 112 kB 24.7 MB/s eta 0:00:01\r\u001b[K     |███▉                            | 122 kB 24.7 MB/s eta 0:00:01\r\u001b[K     |████▏                           | 133 kB 24.7 MB/s eta 0:00:01\r\u001b[K     |████▌                           | 143 kB 24.7 MB/s eta 0:00:01\r\u001b[K     |████▊                           | 153 kB 24.7 MB/s eta 0:00:01\r\u001b[K     |█████                           | 163 kB 24.7 MB/s eta 0:00:01\r\u001b[K     |█████▍                          | 174 kB 24.7 MB/s eta 0:00:01\r\u001b[K     |█████▊                          | 184 kB 24.7 MB/s eta 0:00:01\r\u001b[K     |██████                          | 194 kB 24.7 MB/s eta 0:00:01\r\u001b[K     |██████▍                         | 204 kB 24.7 MB/s eta 0:00:01\r\u001b[K     |██████▊                         | 215 kB 24.7 MB/s eta 0:00:01\r\u001b[K     |███████                         | 225 kB 24.7 MB/s eta 0:00:01\r\u001b[K     |███████▎                        | 235 kB 24.7 MB/s eta 0:00:01\r\u001b[K     |███████▋                        | 245 kB 24.7 MB/s eta 0:00:01\r\u001b[K     |████████                        | 256 kB 24.7 MB/s eta 0:00:01\r\u001b[K     |████████▎                       | 266 kB 24.7 MB/s eta 0:00:01\r\u001b[K     |████████▋                       | 276 kB 24.7 MB/s eta 0:00:01\r\u001b[K     |█████████                       | 286 kB 24.7 MB/s eta 0:00:01\r\u001b[K     |█████████▏                      | 296 kB 24.7 MB/s eta 0:00:01\r\u001b[K     |█████████▌                      | 307 kB 24.7 MB/s eta 0:00:01\r\u001b[K     |█████████▉                      | 317 kB 24.7 MB/s eta 0:00:01\r\u001b[K     |██████████▏                     | 327 kB 24.7 MB/s eta 0:00:01\r\u001b[K     |██████████▌                     | 337 kB 24.7 MB/s eta 0:00:01\r\u001b[K     |██████████▉                     | 348 kB 24.7 MB/s eta 0:00:01\r\u001b[K     |███████████▏                    | 358 kB 24.7 MB/s eta 0:00:01\r\u001b[K     |███████████▍                    | 368 kB 24.7 MB/s eta 0:00:01\r\u001b[K     |███████████▊                    | 378 kB 24.7 MB/s eta 0:00:01\r\u001b[K     |████████████                    | 389 kB 24.7 MB/s eta 0:00:01\r\u001b[K     |████████████▍                   | 399 kB 24.7 MB/s eta 0:00:01\r\u001b[K     |████████████▊                   | 409 kB 24.7 MB/s eta 0:00:01\r\u001b[K     |█████████████                   | 419 kB 24.7 MB/s eta 0:00:01\r\u001b[K     |█████████████▍                  | 430 kB 24.7 MB/s eta 0:00:01\r\u001b[K     |█████████████▋                  | 440 kB 24.7 MB/s eta 0:00:01\r\u001b[K     |██████████████                  | 450 kB 24.7 MB/s eta 0:00:01\r\u001b[K     |██████████████▎                 | 460 kB 24.7 MB/s eta 0:00:01\r\u001b[K     |██████████████▋                 | 471 kB 24.7 MB/s eta 0:00:01\r\u001b[K     |███████████████                 | 481 kB 24.7 MB/s eta 0:00:01\r\u001b[K     |███████████████▎                | 491 kB 24.7 MB/s eta 0:00:01\r\u001b[K     |███████████████▋                | 501 kB 24.7 MB/s eta 0:00:01\r\u001b[K     |███████████████▉                | 512 kB 24.7 MB/s eta 0:00:01\r\u001b[K     |████████████████▏               | 522 kB 24.7 MB/s eta 0:00:01\r\u001b[K     |████████████████▌               | 532 kB 24.7 MB/s eta 0:00:01\r\u001b[K     |████████████████▉               | 542 kB 24.7 MB/s eta 0:00:01\r\u001b[K     |█████████████████▏              | 552 kB 24.7 MB/s eta 0:00:01\r\u001b[K     |█████████████████▌              | 563 kB 24.7 MB/s eta 0:00:01\r\u001b[K     |█████████████████▉              | 573 kB 24.7 MB/s eta 0:00:01\r\u001b[K     |██████████████████              | 583 kB 24.7 MB/s eta 0:00:01\r\u001b[K     |██████████████████▍             | 593 kB 24.7 MB/s eta 0:00:01\r\u001b[K     |██████████████████▊             | 604 kB 24.7 MB/s eta 0:00:01\r\u001b[K     |███████████████████             | 614 kB 24.7 MB/s eta 0:00:01\r\u001b[K     |███████████████████▍            | 624 kB 24.7 MB/s eta 0:00:01\r\u001b[K     |███████████████████▊            | 634 kB 24.7 MB/s eta 0:00:01\r\u001b[K     |████████████████████            | 645 kB 24.7 MB/s eta 0:00:01\r\u001b[K     |████████████████████▎           | 655 kB 24.7 MB/s eta 0:00:01\r\u001b[K     |████████████████████▋           | 665 kB 24.7 MB/s eta 0:00:01\r\u001b[K     |█████████████████████           | 675 kB 24.7 MB/s eta 0:00:01\r\u001b[K     |█████████████████████▎          | 686 kB 24.7 MB/s eta 0:00:01\r\u001b[K     |█████████████████████▋          | 696 kB 24.7 MB/s eta 0:00:01\r\u001b[K     |██████████████████████          | 706 kB 24.7 MB/s eta 0:00:01\r\u001b[K     |██████████████████████▎         | 716 kB 24.7 MB/s eta 0:00:01\r\u001b[K     |██████████████████████▋         | 727 kB 24.7 MB/s eta 0:00:01\r\u001b[K     |██████████████████████▉         | 737 kB 24.7 MB/s eta 0:00:01\r\u001b[K     |███████████████████████▏        | 747 kB 24.7 MB/s eta 0:00:01\r\u001b[K     |███████████████████████▌        | 757 kB 24.7 MB/s eta 0:00:01\r\u001b[K     |███████████████████████▉        | 768 kB 24.7 MB/s eta 0:00:01\r\u001b[K     |████████████████████████▏       | 778 kB 24.7 MB/s eta 0:00:01\r\u001b[K     |████████████████████████▌       | 788 kB 24.7 MB/s eta 0:00:01\r\u001b[K     |████████████████████████▉       | 798 kB 24.7 MB/s eta 0:00:01\r\u001b[K     |█████████████████████████       | 808 kB 24.7 MB/s eta 0:00:01\r\u001b[K     |█████████████████████████▍      | 819 kB 24.7 MB/s eta 0:00:01\r\u001b[K     |█████████████████████████▊      | 829 kB 24.7 MB/s eta 0:00:01\r\u001b[K     |██████████████████████████      | 839 kB 24.7 MB/s eta 0:00:01\r\u001b[K     |██████████████████████████▍     | 849 kB 24.7 MB/s eta 0:00:01\r\u001b[K     |██████████████████████████▊     | 860 kB 24.7 MB/s eta 0:00:01\r\u001b[K     |███████████████████████████     | 870 kB 24.7 MB/s eta 0:00:01\r\u001b[K     |███████████████████████████▎    | 880 kB 24.7 MB/s eta 0:00:01\r\u001b[K     |███████████████████████████▋    | 890 kB 24.7 MB/s eta 0:00:01\r\u001b[K     |████████████████████████████    | 901 kB 24.7 MB/s eta 0:00:01\r\u001b[K     |████████████████████████████▎   | 911 kB 24.7 MB/s eta 0:00:01\r\u001b[K     |████████████████████████████▋   | 921 kB 24.7 MB/s eta 0:00:01\r\u001b[K     |█████████████████████████████   | 931 kB 24.7 MB/s eta 0:00:01\r\u001b[K     |█████████████████████████████▎  | 942 kB 24.7 MB/s eta 0:00:01\r\u001b[K     |█████████████████████████████▌  | 952 kB 24.7 MB/s eta 0:00:01\r\u001b[K     |█████████████████████████████▉  | 962 kB 24.7 MB/s eta 0:00:01\r\u001b[K     |██████████████████████████████▏ | 972 kB 24.7 MB/s eta 0:00:01\r\u001b[K     |██████████████████████████████▌ | 983 kB 24.7 MB/s eta 0:00:01\r\u001b[K     |██████████████████████████████▉ | 993 kB 24.7 MB/s eta 0:00:01\r\u001b[K     |███████████████████████████████▏| 1.0 MB 24.7 MB/s eta 0:00:01\r\u001b[K     |███████████████████████████████▌| 1.0 MB 24.7 MB/s eta 0:00:01\r\u001b[K     |███████████████████████████████▊| 1.0 MB 24.7 MB/s eta 0:00:01\r\u001b[K     |████████████████████████████████| 1.0 MB 24.7 MB/s \n",
            "\u001b[?25hRequirement already satisfied: shapely>=1.6 in /usr/local/lib/python3.7/dist-packages (from geopandas) (1.8.1.post1)\n",
            "Collecting fiona>=1.8\n",
            "  Downloading Fiona-1.8.21-cp37-cp37m-manylinux2014_x86_64.whl (16.7 MB)\n",
            "\u001b[K     |████████████████████████████████| 16.7 MB 57.4 MB/s \n",
            "\u001b[?25hCollecting pyproj>=2.2.0\n",
            "  Downloading pyproj-3.2.1-cp37-cp37m-manylinux2010_x86_64.whl (6.3 MB)\n",
            "\u001b[K     |████████████████████████████████| 6.3 MB 60.6 MB/s \n",
            "\u001b[?25hRequirement already satisfied: pandas>=0.25.0 in /usr/local/lib/python3.7/dist-packages (from geopandas) (1.3.5)\n",
            "Requirement already satisfied: setuptools in /usr/local/lib/python3.7/dist-packages (from fiona>=1.8->geopandas) (57.4.0)\n",
            "Requirement already satisfied: click>=4.0 in /usr/local/lib/python3.7/dist-packages (from fiona>=1.8->geopandas) (7.1.2)\n",
            "Requirement already satisfied: six>=1.7 in /usr/local/lib/python3.7/dist-packages (from fiona>=1.8->geopandas) (1.15.0)\n",
            "Requirement already satisfied: attrs>=17 in /usr/local/lib/python3.7/dist-packages (from fiona>=1.8->geopandas) (21.4.0)\n",
            "Collecting munch\n",
            "  Downloading munch-2.5.0-py2.py3-none-any.whl (10 kB)\n",
            "Collecting click-plugins>=1.0\n",
            "  Downloading click_plugins-1.1.1-py2.py3-none-any.whl (7.5 kB)\n",
            "Collecting cligj>=0.5\n",
            "  Downloading cligj-0.7.2-py3-none-any.whl (7.1 kB)\n",
            "Requirement already satisfied: certifi in /usr/local/lib/python3.7/dist-packages (from fiona>=1.8->geopandas) (2021.10.8)\n",
            "Requirement already satisfied: pytz>=2017.3 in /usr/local/lib/python3.7/dist-packages (from pandas>=0.25.0->geopandas) (2018.9)\n",
            "Requirement already satisfied: python-dateutil>=2.7.3 in /usr/local/lib/python3.7/dist-packages (from pandas>=0.25.0->geopandas) (2.8.2)\n",
            "Requirement already satisfied: numpy>=1.17.3 in /usr/local/lib/python3.7/dist-packages (from pandas>=0.25.0->geopandas) (1.21.5)\n",
            "Installing collected packages: munch, cligj, click-plugins, pyproj, fiona, geopandas\n",
            "Successfully installed click-plugins-1.1.1 cligj-0.7.2 fiona-1.8.21 geopandas-0.10.2 munch-2.5.0 pyproj-3.2.1\n"
          ]
        }
      ]
    },
    {
      "cell_type": "code",
      "source": [
        ""
      ],
      "metadata": {
        "id": "c9wtTmqr_v2a"
      },
      "execution_count": null,
      "outputs": []
    },
    {
      "cell_type": "code",
      "execution_count": 1,
      "metadata": {
        "id": "x3DFYfFF_2TQ"
      },
      "outputs": [],
      "source": [
        "#data manipulation\n",
        "import numpy as np\n",
        "import pandas as pd\n",
        "import geopandas as gpd\n",
        "\n",
        "#data visualization\n",
        "import geobr\n",
        "import seaborn as sns\n",
        "import matplotlib.pyplot as plt"
      ]
    },
    {
      "cell_type": "code",
      "source": [
        "!pip install geobr"
      ],
      "metadata": {
        "colab": {
          "base_uri": "https://localhost:8080/"
        },
        "id": "DRd7ry_6_wkl",
        "outputId": "a995b94c-92c4-469b-8972-e7ff1e137590"
      },
      "execution_count": 4,
      "outputs": [
        {
          "output_type": "stream",
          "name": "stdout",
          "text": [
            "Requirement already satisfied: geobr in /usr/local/lib/python3.7/dist-packages (0.1.10)\n",
            "Requirement already satisfied: geopandas<0.8.0,>=0.7.0 in /usr/local/lib/python3.7/dist-packages (from geobr) (0.7.0)\n",
            "Requirement already satisfied: shapely<2.0.0,>=1.7.0 in /usr/local/lib/python3.7/dist-packages (from geobr) (1.8.1.post1)\n",
            "Requirement already satisfied: pandas>=0.23.0 in /usr/local/lib/python3.7/dist-packages (from geopandas<0.8.0,>=0.7.0->geobr) (1.3.5)\n",
            "Requirement already satisfied: fiona in /usr/local/lib/python3.7/dist-packages (from geopandas<0.8.0,>=0.7.0->geobr) (1.8.21)\n",
            "Requirement already satisfied: pyproj>=2.2.0 in /usr/local/lib/python3.7/dist-packages (from geopandas<0.8.0,>=0.7.0->geobr) (3.2.1)\n",
            "Requirement already satisfied: python-dateutil>=2.7.3 in /usr/local/lib/python3.7/dist-packages (from pandas>=0.23.0->geopandas<0.8.0,>=0.7.0->geobr) (2.8.2)\n",
            "Requirement already satisfied: pytz>=2017.3 in /usr/local/lib/python3.7/dist-packages (from pandas>=0.23.0->geopandas<0.8.0,>=0.7.0->geobr) (2018.9)\n",
            "Requirement already satisfied: numpy>=1.17.3 in /usr/local/lib/python3.7/dist-packages (from pandas>=0.23.0->geopandas<0.8.0,>=0.7.0->geobr) (1.21.5)\n",
            "Requirement already satisfied: certifi in /usr/local/lib/python3.7/dist-packages (from pyproj>=2.2.0->geopandas<0.8.0,>=0.7.0->geobr) (2021.10.8)\n",
            "Requirement already satisfied: six>=1.5 in /usr/local/lib/python3.7/dist-packages (from python-dateutil>=2.7.3->pandas>=0.23.0->geopandas<0.8.0,>=0.7.0->geobr) (1.15.0)\n",
            "Requirement already satisfied: click>=4.0 in /usr/local/lib/python3.7/dist-packages (from fiona->geopandas<0.8.0,>=0.7.0->geobr) (7.1.2)\n",
            "Requirement already satisfied: attrs>=17 in /usr/local/lib/python3.7/dist-packages (from fiona->geopandas<0.8.0,>=0.7.0->geobr) (21.4.0)\n",
            "Requirement already satisfied: setuptools in /usr/local/lib/python3.7/dist-packages (from fiona->geopandas<0.8.0,>=0.7.0->geobr) (57.4.0)\n",
            "Requirement already satisfied: munch in /usr/local/lib/python3.7/dist-packages (from fiona->geopandas<0.8.0,>=0.7.0->geobr) (2.5.0)\n",
            "Requirement already satisfied: click-plugins>=1.0 in /usr/local/lib/python3.7/dist-packages (from fiona->geopandas<0.8.0,>=0.7.0->geobr) (1.1.1)\n",
            "Requirement already satisfied: cligj>=0.5 in /usr/local/lib/python3.7/dist-packages (from fiona->geopandas<0.8.0,>=0.7.0->geobr) (0.7.2)\n"
          ]
        }
      ]
    },
    {
      "cell_type": "code",
      "source": [
        "np.random.randint(1, 200, 300)"
      ],
      "metadata": {
        "colab": {
          "base_uri": "https://localhost:8080/"
        },
        "id": "scW16_IDPXJJ",
        "outputId": "ad3f0958-c20f-4db2-816a-edd2ed1d1d4f"
      },
      "execution_count": 5,
      "outputs": [
        {
          "output_type": "execute_result",
          "data": {
            "text/plain": [
              "array([ 24, 123,   8,  62,  22,  20,  94,  18,  31,  21,  98,  40,   3,\n",
              "       199,  94,  51,   3,  41, 128,  79, 145,  53, 125, 194, 121, 188,\n",
              "        89,  58,  54, 101,  21, 145,  64,  21,  76, 120,  76, 169, 102,\n",
              "        60,  37,  76, 123, 160,  48,  23,  72, 182,  28,  90, 131,  37,\n",
              "        68, 164, 190,  66,  87,  52,  31, 169, 178,  19, 138,  87, 117,\n",
              "       151, 180, 128,  27, 127,  13,  61,   6,  16, 108, 119, 103,   4,\n",
              "        95, 101,  31,  41, 175, 112, 113,  86,  27, 147, 186,  15,  38,\n",
              "        32, 189,  66, 110,  11,  90, 190, 145, 197,  77,  45, 166, 182,\n",
              "        16, 119, 161,   9,  72, 109, 184, 113,  44,  26, 176,  71, 127,\n",
              "        24, 190,   1,  44,  92, 185, 103,  32,  80, 104,  79,   9, 136,\n",
              "       175, 108,  47, 126,  35, 158, 184, 119, 129,  62,  23, 174,  74,\n",
              "       157, 188,  42,  38,  84, 143, 189, 185,  77, 114, 167,  76,  49,\n",
              "       170, 116, 175,  89,  71,  86,  76,  40,  56,  67, 104,  28, 193,\n",
              "       167, 199,  54,  21, 121, 147,  49, 185,   8,   7, 102, 177, 124,\n",
              "        76,  43, 162,  80,  42,  92, 116, 103,  39, 138, 137, 197, 164,\n",
              "        48, 133, 176, 169,  82,  78,  52,  52, 187,  80,  99, 198, 192,\n",
              "       184, 123, 127, 118, 110,  84,  47,  96,  50,  81, 141, 173, 164,\n",
              "         6, 135,  94, 173,  58,  74,  47,  98,   8, 110,   6, 126, 111,\n",
              "       123,   3,  39,  92, 178,  39, 111, 130, 191,  61,  18,  89,   1,\n",
              "        95, 110, 111, 140,  62, 121, 128, 147, 127, 136,  71, 193, 125,\n",
              "       124, 127,  31, 176, 138,  34, 173,  93,   7,  25, 171,  54, 133,\n",
              "       162, 137,  64,  21,  86,  78,  68,  52, 165,  54, 185, 159,  75,\n",
              "        23,  86,  30, 199,  88,  80,  90,   2, 172, 178, 157,  84,   3,\n",
              "        99])"
            ]
          },
          "metadata": {},
          "execution_count": 5
        }
      ]
    },
    {
      "cell_type": "code",
      "source": [
        "np.random.seed(10) #Gera os mesmos números aleatórios\n",
        "np.random.randint(1, 200, 300)"
      ],
      "metadata": {
        "colab": {
          "base_uri": "https://localhost:8080/"
        },
        "id": "dyrRkcO2PYP3",
        "outputId": "3414cdba-193e-4cd9-8f8a-bf818fadede0"
      },
      "execution_count": 6,
      "outputs": [
        {
          "output_type": "execute_result",
          "data": {
            "text/plain": [
              "array([ 10, 126,  16,  65, 114, 124, 157, 158, 114,   9,  74,   1,  41,\n",
              "       165, 116,  17, 101, 140,  55,  89, 108, 123,  63,  34, 101, 178,\n",
              "       180,  55,  78, 198,  14, 154, 127, 142,  93,  87,  31, 159,  90,\n",
              "       141,  66,  32,  58,  37,  28,  19,  94,  78, 151, 152,  95, 140,\n",
              "       157,  75, 138,  16,  19, 119,  72,  89, 140, 146, 175, 136,  29,\n",
              "        34,  97,  45, 134,   5,  72,  89,  89,  51, 109, 183,  35, 105,\n",
              "        16,  89, 144, 135,  86, 151,  12, 113,  13,  63, 186,  80, 109,\n",
              "        43,  58,  98,  51,  46, 169, 166, 129, 147,  24,   4,  30,  17,\n",
              "        85,  83, 113,  15,  52,  80,  18, 179,  54, 154, 111, 177,  18,\n",
              "       161,  82,  42,  91,  13,  31, 146, 145, 129, 160, 102, 193, 125,\n",
              "       167,  23,  97,  67,  68, 191,  96, 100, 156,  83,  63,  78, 108,\n",
              "        49, 118, 116, 166,  12, 150, 162,  96, 172,  74, 169, 102, 172,\n",
              "        91,  72, 137,  73, 157, 110,  31, 124, 154, 191,  14, 170, 162,\n",
              "         5,  95,  29,  40,  92, 104,  10,   8, 151,  33,   4,  10, 181,\n",
              "       197, 159, 199, 121, 117,  75,  31, 138,   3, 194, 116, 142, 181,\n",
              "       134,  85, 177, 191,  43, 163, 169,  47, 161,  95,  87, 187, 198,\n",
              "       121,  46,  19, 179,  45, 130,  64, 108,  19, 156,  84, 166, 104,\n",
              "       144,  56, 135,  45,  10,  51,   1,  45,  69,  15, 118, 133, 135,\n",
              "        43,  45, 113,  39, 149, 138,  41, 145,  76, 168,  59,  40,  50,\n",
              "       128, 140, 107,  80,  22, 198, 177,  61,  59, 142, 105,   4, 160,\n",
              "       146, 158, 198, 179,  52, 149,   6, 109, 199, 190, 145, 133, 151,\n",
              "        20,  86,  36, 121,  36, 113,  12,  42,  55,  20,  42, 190, 139,\n",
              "        37,   1, 159,  63,  86,  33, 105,  14, 196, 125, 160,  33, 167,\n",
              "       166])"
            ]
          },
          "metadata": {},
          "execution_count": 6
        }
      ]
    },
    {
      "cell_type": "code",
      "source": [
        ""
      ],
      "metadata": {
        "id": "SKdFyQeZPY9n"
      },
      "execution_count": null,
      "outputs": []
    },
    {
      "cell_type": "code",
      "source": [
        ""
      ],
      "metadata": {
        "id": "8_JzoydyMAU8"
      },
      "execution_count": null,
      "outputs": []
    },
    {
      "cell_type": "code",
      "source": [
        ""
      ],
      "metadata": {
        "id": "cIkBl8XKMBRk"
      },
      "execution_count": null,
      "outputs": []
    }
  ]
}