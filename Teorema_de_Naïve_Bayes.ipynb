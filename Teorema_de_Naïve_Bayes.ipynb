{
  "nbformat": 4,
  "nbformat_minor": 0,
  "metadata": {
    "colab": {
      "provenance": [],
      "authorship_tag": "ABX9TyPazmzGYlevw/ECxSZTexV9",
      "include_colab_link": true
    },
    "kernelspec": {
      "name": "python3",
      "display_name": "Python 3"
    },
    "language_info": {
      "name": "python"
    }
  },
  "cells": [
    {
      "cell_type": "markdown",
      "metadata": {
        "id": "view-in-github",
        "colab_type": "text"
      },
      "source": [
        "<a href=\"https://colab.research.google.com/github/Juniorexz/Codigo/blob/master/Teorema_de_Na%C3%AFve_Bayes.ipynb\" target=\"_parent\"><img src=\"https://colab.research.google.com/assets/colab-badge.svg\" alt=\"Open In Colab\"/></a>"
      ]
    },
    {
      "cell_type": "code",
      "execution_count": null,
      "metadata": {
        "id": "Nh-ekNFXxF8S"
      },
      "outputs": [],
      "source": [
        "Modelo de machine learning supervisionado - Eu acabo de apresentar para você o princípio da independência condicional que rege o teorema de Byes.\n",
        "A sua base diz que cada uma das características utilizadas por uma determinada classe contribuíram de forma independente entre si, para que essa classe fosse determinada.\n",
        "É a partir desse teorema que o nosso modele Bernoulli Naïve Bayes, que veremos agora, é estruturado.\n",
        "Além disso, é um modelo utilizado em tarefas de aprendizado de máquinas supervisionado como, por exemplo, a classificação.\n",
        "Como calculamos esse teorema? Aqui temos a fórmula do teorema: \"P(y/x) = P(X/y) * P(y)/P(X)\". "
      ]
    },
    {
      "cell_type": "code",
      "source": [
        "#Verossimilhança  irá calcular a probalidade de X/y acontecer, * P(y) probabilidade de determinada classe ocorrer em toda amostra e divido pelo conjunto de X\n"
      ],
      "metadata": {
        "id": "TwbcLXCY3EC3"
      },
      "execution_count": null,
      "outputs": []
    },
    {
      "cell_type": "markdown",
      "source": [
        "Multinomial de Bernoulli. O Multinomial de Bernoulli é tipo de distribuição em que os dados estão apenas em variáveis binárias, ou seja, apenas dois valores dessa variável são possíveis, como no caso do nosso Churn, ou é sim ou é não.\n",
        "Esse tipo de distribuição, esse tipo de classificador é muito utilizado para classificações, tarefas de aprendizado de máquinas supervisionado. Entendendo em partes como se calcula essa distribuição de Bernoulli.Começamos pela probabilidade de i dado que y aconteceu, essa etapa é conhecida como parâmetro P da distribuição de Bernoulli. Temos que lembrar o seguinte: o i pode ser um valor infinito de 1 até N, e o i é o número de características do nosso conjunto de variáveis. Lembrando da Maria, nós temos 38 variáveis, temos 38 Is, probabilidade de 1 dado que o y aconteceu. Lembrando que o Y é a classe.\n",
        "Vamos supor um Churn igual a não, qual a probabilidade dessa característica 1 acontecer sendo que o Churn não aconteceu, é esse parâmetro P da distribuição de Bernoulli. A próxima parte é o Xi que já é um velho conhecido, que é o conjunto de características. Vai ser aplicada essas informações para toda essa probabilidade, para todas as características. Temos um Xi como x1, x2, x3, x4 e assim por diante até o x38, como no caso da Maria.\n",
        "É assim que se calcula a verossimilhança, a probabilidade do conjunto i de características acontecer sendo que a classe y aconteceu.\n",
        "Retomando o exemplo da Maria. Lembrando que a Maria não possui apenas valores binários de características, por exemplo, a cônjuge é sim ou não, só que a forma de pagamento é débito em conta, crédito, cheque, cheque digital, cheque em papel. Temos variáveis binárias e temos variáveis que não são binárias. Inclusive, o nosso Churn é uma variável binária, que só contém sim e não como possível.\n"
      ],
      "metadata": {
        "id": "RfEZLfZY6VeJ"
      }
    },
    {
      "cell_type": "markdown",
      "source": [
        "Treinamento e Teste"
      ],
      "metadata": {
        "id": "iLGBcPiGztoJ"
      }
    },
    {
      "cell_type": "code",
      "source": [],
      "metadata": {
        "id": "ySACpnFg3D_H",
        "colab": {
          "base_uri": "https://localhost:8080/",
          "height": 166
        },
        "outputId": "8ffd853b-16cb-4aa3-be1e-17a43050b554"
      },
      "execution_count": 5,
      "outputs": [
        {
          "output_type": "error",
          "ename": "NameError",
          "evalue": "ignored",
          "traceback": [
            "\u001b[0;31m---------------------------------------------------------------------------\u001b[0m",
            "\u001b[0;31mNameError\u001b[0m                                 Traceback (most recent call last)",
            "\u001b[0;32m<ipython-input-5-e808daecefc5>\u001b[0m in \u001b[0;36m<module>\u001b[0;34m\u001b[0m\n\u001b[0;32m----> 1\u001b[0;31m \u001b[0mX_treino\u001b[0m\u001b[0;34m\u001b[0m\u001b[0;34m\u001b[0m\u001b[0m\n\u001b[0m",
            "\u001b[0;31mNameError\u001b[0m: name 'X_treino' is not defined"
          ]
        }
      ]
    },
    {
      "cell_type": "code",
      "source": [],
      "metadata": {
        "id": "ATH2eq0b3D7Q"
      },
      "execution_count": 3,
      "outputs": []
    },
    {
      "cell_type": "code",
      "source": [],
      "metadata": {
        "id": "6FZo03283D3p"
      },
      "execution_count": null,
      "outputs": []
    },
    {
      "cell_type": "code",
      "source": [],
      "metadata": {
        "id": "LISoLWoP3Dbs"
      },
      "execution_count": null,
      "outputs": []
    }
  ]
}