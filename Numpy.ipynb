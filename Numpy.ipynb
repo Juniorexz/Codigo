{
  "nbformat": 4,
  "nbformat_minor": 0,
  "metadata": {
    "colab": {
      "name": "Untitled6.ipynb",
      "provenance": [],
      "authorship_tag": "ABX9TyPPBi9CzhAxAOjU5VLdnKQh",
      "include_colab_link": true
    },
    "kernelspec": {
      "name": "python3",
      "display_name": "Python 3"
    },
    "language_info": {
      "name": "python"
    }
  },
  "cells": [
    {
      "cell_type": "markdown",
      "metadata": {
        "id": "view-in-github",
        "colab_type": "text"
      },
      "source": [
        "<a href=\"https://colab.research.google.com/github/Juniorexz/Codigo/blob/master/Numpy.ipynb\" target=\"_parent\"><img src=\"https://colab.research.google.com/assets/colab-badge.svg\" alt=\"Open In Colab\"/></a>"
      ]
    },
    {
      "cell_type": "code",
      "metadata": {
        "id": "WY9Cv_ZtDOFf"
      },
      "source": [
        "import pandas as pd\n"
      ],
      "execution_count": 2,
      "outputs": []
    },
    {
      "cell_type": "code",
      "metadata": {
        "id": "y6a8GbRQDTux"
      },
      "source": [
        "import numpy as np\n",
        "import matplotlib.pyplot as plt"
      ],
      "execution_count": 3,
      "outputs": []
    },
    {
      "cell_type": "code",
      "metadata": {
        "id": "1J0F7kWVDZ8N"
      },
      "source": [
        "matrix = np.array([[1, 2, 3],[4, 5, 6],[7, 8, 9]])"
      ],
      "execution_count": null,
      "outputs": []
    },
    {
      "cell_type": "code",
      "metadata": {
        "colab": {
          "base_uri": "https://localhost:8080/"
        },
        "id": "UNeDZ4WJDgNC",
        "outputId": "3eb87c87-cbde-4033-aebf-eeb309c76807"
      },
      "source": [
        "matrix"
      ],
      "execution_count": null,
      "outputs": [
        {
          "output_type": "execute_result",
          "data": {
            "text/plain": [
              "array([[1, 2, 3],\n",
              "       [4, 5, 6],\n",
              "       [7, 8, 9]])"
            ]
          },
          "metadata": {
            "tags": []
          },
          "execution_count": 6
        }
      ]
    },
    {
      "cell_type": "code",
      "metadata": {
        "colab": {
          "base_uri": "https://localhost:8080/"
        },
        "id": "2v5U2KojHNoQ",
        "outputId": "ea77e663-fb38-4111-febd-dcdc19462960"
      },
      "source": [
        "matrix.T\n",
        "matrix.shape"
      ],
      "execution_count": null,
      "outputs": [
        {
          "output_type": "execute_result",
          "data": {
            "text/plain": [
              "(3, 3)"
            ]
          },
          "metadata": {
            "tags": []
          },
          "execution_count": 8
        }
      ]
    },
    {
      "cell_type": "code",
      "metadata": {
        "id": "Opdk8FM0IxyL"
      },
      "source": [
        "matrix = np.array([[1, 1],[2,0],[1, 5]])"
      ],
      "execution_count": null,
      "outputs": []
    },
    {
      "cell_type": "code",
      "metadata": {
        "colab": {
          "base_uri": "https://localhost:8080/"
        },
        "id": "VXQNlGXdJm-w",
        "outputId": "59a0748b-b204-4b15-99b0-040acd5296cc"
      },
      "source": [
        "matrix.shape"
      ],
      "execution_count": null,
      "outputs": [
        {
          "output_type": "execute_result",
          "data": {
            "text/plain": [
              "(3, 2)"
            ]
          },
          "metadata": {
            "tags": []
          },
          "execution_count": 10
        }
      ]
    },
    {
      "cell_type": "code",
      "metadata": {
        "colab": {
          "base_uri": "https://localhost:8080/"
        },
        "id": "jebS0kGBJpnR",
        "outputId": "e89ef043-b830-484a-da7f-e6a685240170"
      },
      "source": [
        "matrix\n",
        "matrix.T.shape"
      ],
      "execution_count": null,
      "outputs": [
        {
          "output_type": "execute_result",
          "data": {
            "text/plain": [
              "(2, 3)"
            ]
          },
          "metadata": {
            "tags": []
          },
          "execution_count": 12
        }
      ]
    },
    {
      "cell_type": "code",
      "metadata": {
        "id": "R1Dp5yLAKFip"
      },
      "source": [
        "vetor = matrix.ravel()"
      ],
      "execution_count": null,
      "outputs": []
    },
    {
      "cell_type": "code",
      "metadata": {
        "colab": {
          "base_uri": "https://localhost:8080/"
        },
        "id": "VWvQH7_ZKXwW",
        "outputId": "bc674159-9dcc-444a-e29f-d87d6257f480"
      },
      "source": [
        "vetor"
      ],
      "execution_count": null,
      "outputs": [
        {
          "output_type": "execute_result",
          "data": {
            "text/plain": [
              "array([1, 1, 2, 0, 1, 5])"
            ]
          },
          "metadata": {
            "tags": []
          },
          "execution_count": 15
        }
      ]
    },
    {
      "cell_type": "code",
      "metadata": {
        "id": "-J49lL3tKk9k"
      },
      "source": [
        "vetor.shape = (6,1)"
      ],
      "execution_count": null,
      "outputs": []
    },
    {
      "cell_type": "code",
      "metadata": {
        "id": "46NXAfxxKxiC"
      },
      "source": [
        "vetor\n",
        "vetor = np.array([[1],[1],[2],[0],[1],[5]])"
      ],
      "execution_count": null,
      "outputs": []
    },
    {
      "cell_type": "code",
      "metadata": {
        "colab": {
          "base_uri": "https://localhost:8080/"
        },
        "id": "qmRfBzwALBzg",
        "outputId": "a49c01fa-7d5e-40d8-ef6f-9ec665105859"
      },
      "source": [
        "vetor"
      ],
      "execution_count": null,
      "outputs": [
        {
          "output_type": "execute_result",
          "data": {
            "text/plain": [
              "array([[1],\n",
              "       [1],\n",
              "       [2],\n",
              "       [0],\n",
              "       [1],\n",
              "       [5]])"
            ]
          },
          "metadata": {
            "tags": []
          },
          "execution_count": 20
        }
      ]
    },
    {
      "cell_type": "code",
      "metadata": {
        "id": "6dGVsgMcMExz"
      },
      "source": [
        "vetor = np.array([1, 1, 2, 0, 1, 5])\n",
        "vetor = vetor.reshape((6,1))"
      ],
      "execution_count": null,
      "outputs": []
    },
    {
      "cell_type": "code",
      "metadata": {
        "id": "nO4nefYrMiGN"
      },
      "source": [
        "vetor = np.arange(1,51).reshape((50, 1))"
      ],
      "execution_count": null,
      "outputs": []
    },
    {
      "cell_type": "code",
      "metadata": {
        "id": "WWPl6-CiMjbZ"
      },
      "source": [
        "vetor = np.arange(1, 11).reshape((-1, 1))"
      ],
      "execution_count": null,
      "outputs": []
    },
    {
      "cell_type": "code",
      "metadata": {
        "colab": {
          "base_uri": "https://localhost:8080/"
        },
        "id": "Pm3DmqapNgPK",
        "outputId": "483e8f07-8170-4af1-8ed3-fef3b208bb15"
      },
      "source": [
        "vetor"
      ],
      "execution_count": null,
      "outputs": [
        {
          "output_type": "execute_result",
          "data": {
            "text/plain": [
              "array([[ 1],\n",
              "       [ 2],\n",
              "       [ 3],\n",
              "       [ 4],\n",
              "       [ 5],\n",
              "       [ 6],\n",
              "       [ 7],\n",
              "       [ 8],\n",
              "       [ 9],\n",
              "       [10]])"
            ]
          },
          "metadata": {
            "tags": []
          },
          "execution_count": 32
        }
      ]
    },
    {
      "cell_type": "code",
      "metadata": {
        "id": "ynv4MJWrOVh8"
      },
      "source": [
        "vetor2 = np.arange(11, 21).reshape((-1,1))"
      ],
      "execution_count": null,
      "outputs": []
    },
    {
      "cell_type": "code",
      "metadata": {
        "colab": {
          "base_uri": "https://localhost:8080/"
        },
        "id": "8vCid-kFO7k0",
        "outputId": "20763e63-1e6f-43a1-e9c6-4882a72039ea"
      },
      "source": [
        "vetor2"
      ],
      "execution_count": null,
      "outputs": [
        {
          "output_type": "execute_result",
          "data": {
            "text/plain": [
              "array([[11],\n",
              "       [12],\n",
              "       [13],\n",
              "       [14],\n",
              "       [15],\n",
              "       [16],\n",
              "       [17],\n",
              "       [18],\n",
              "       [19],\n",
              "       [20]])"
            ]
          },
          "metadata": {
            "tags": []
          },
          "execution_count": 36
        }
      ]
    },
    {
      "cell_type": "code",
      "metadata": {
        "colab": {
          "base_uri": "https://localhost:8080/"
        },
        "id": "4uQJnctkO9nv",
        "outputId": "d1028397-ee1b-4d63-80f8-0ee88dc369b9"
      },
      "source": [
        "np.append(vetor, vetor2)"
      ],
      "execution_count": null,
      "outputs": [
        {
          "output_type": "execute_result",
          "data": {
            "text/plain": [
              "array([ 1,  2,  3,  4,  5,  6,  7,  8,  9, 10, 11, 12, 13, 14, 15, 16, 17,\n",
              "       18, 19, 20])"
            ]
          },
          "metadata": {
            "tags": []
          },
          "execution_count": 37
        }
      ]
    },
    {
      "cell_type": "code",
      "metadata": {
        "id": "V2nWhZXaQclo"
      },
      "source": [
        "v = np.append(vetor, vetor2).reshape(-1,1)"
      ],
      "execution_count": null,
      "outputs": []
    },
    {
      "cell_type": "code",
      "metadata": {
        "colab": {
          "base_uri": "https://localhost:8080/"
        },
        "id": "QfbYixUeRIlJ",
        "outputId": "a8b1b161-d1a9-4bd8-f833-70d5987a3c37"
      },
      "source": [
        "v"
      ],
      "execution_count": null,
      "outputs": [
        {
          "output_type": "execute_result",
          "data": {
            "text/plain": [
              "array([[ 1],\n",
              "       [ 2],\n",
              "       [ 3],\n",
              "       [ 4],\n",
              "       [ 5],\n",
              "       [ 6],\n",
              "       [ 7],\n",
              "       [ 8],\n",
              "       [ 9],\n",
              "       [10],\n",
              "       [11],\n",
              "       [12],\n",
              "       [13],\n",
              "       [14],\n",
              "       [15],\n",
              "       [16],\n",
              "       [17],\n",
              "       [18],\n",
              "       [19],\n",
              "       [20]])"
            ]
          },
          "metadata": {
            "tags": []
          },
          "execution_count": 40
        }
      ]
    },
    {
      "cell_type": "code",
      "metadata": {
        "id": "aD27AYjDRb4G"
      },
      "source": [
        "v = np.insert(v,0, 0).reshape(-1,1)"
      ],
      "execution_count": null,
      "outputs": []
    },
    {
      "cell_type": "code",
      "metadata": {
        "colab": {
          "base_uri": "https://localhost:8080/"
        },
        "id": "cZDizB8uR13w",
        "outputId": "845d7588-c1f8-4eba-cead-09e8ee9e5ad4"
      },
      "source": [
        "v"
      ],
      "execution_count": null,
      "outputs": [
        {
          "output_type": "execute_result",
          "data": {
            "text/plain": [
              "array([[ 0],\n",
              "       [ 0],\n",
              "       [ 0],\n",
              "       [ 1],\n",
              "       [ 2],\n",
              "       [ 3],\n",
              "       [ 4],\n",
              "       [ 5],\n",
              "       [ 6],\n",
              "       [ 7],\n",
              "       [ 8],\n",
              "       [ 9],\n",
              "       [10],\n",
              "       [11],\n",
              "       [12],\n",
              "       [13],\n",
              "       [14],\n",
              "       [15],\n",
              "       [16],\n",
              "       [17],\n",
              "       [18],\n",
              "       [19],\n",
              "       [20]])"
            ]
          },
          "metadata": {
            "tags": []
          },
          "execution_count": 45
        }
      ]
    },
    {
      "cell_type": "code",
      "metadata": {
        "colab": {
          "base_uri": "https://localhost:8080/"
        },
        "id": "CBeuVbygR2x_",
        "outputId": "f9d1e24c-8664-4ef4-c751-31b555748394"
      },
      "source": [
        "np.delete(v, [0])"
      ],
      "execution_count": null,
      "outputs": [
        {
          "output_type": "execute_result",
          "data": {
            "text/plain": [
              "array([ 0,  0,  1,  2,  3,  4,  5,  6,  7,  8,  9, 10, 11, 12, 13, 14, 15,\n",
              "       16, 17, 18, 19, 20])"
            ]
          },
          "metadata": {
            "tags": []
          },
          "execution_count": 46
        }
      ]
    },
    {
      "cell_type": "code",
      "metadata": {
        "colab": {
          "base_uri": "https://localhost:8080/"
        },
        "id": "WVh1Q4mfSUY-",
        "outputId": "fe90e556-89f6-416e-b6cc-de51aa8fed7d"
      },
      "source": [
        "np.delete(v, [0])"
      ],
      "execution_count": null,
      "outputs": [
        {
          "output_type": "execute_result",
          "data": {
            "text/plain": [
              "array([ 0,  0,  1,  2,  3,  4,  5,  6,  7,  8,  9, 10, 11, 12, 13, 14, 15,\n",
              "       16, 17, 18, 19, 20])"
            ]
          },
          "metadata": {
            "tags": []
          },
          "execution_count": 47
        }
      ]
    },
    {
      "cell_type": "code",
      "metadata": {
        "colab": {
          "base_uri": "https://localhost:8080/"
        },
        "id": "S3dhieiGSWTN",
        "outputId": "a10dd513-20d4-4f68-971b-b25393b5f63a"
      },
      "source": [
        "np.delete(v, [0])"
      ],
      "execution_count": null,
      "outputs": [
        {
          "output_type": "execute_result",
          "data": {
            "text/plain": [
              "array([ 0,  0,  1,  2,  3,  4,  5,  6,  7,  8,  9, 10, 11, 12, 13, 14, 15,\n",
              "       16, 17, 18, 19, 20])"
            ]
          },
          "metadata": {
            "tags": []
          },
          "execution_count": 48
        }
      ]
    },
    {
      "cell_type": "code",
      "metadata": {
        "colab": {
          "base_uri": "https://localhost:8080/"
        },
        "id": "RZwL6m8oS6wV",
        "outputId": "5f6f4666-a32a-4567-ae68-1b56a618174a"
      },
      "source": [
        "np.delete(v, [0],1)"
      ],
      "execution_count": null,
      "outputs": [
        {
          "output_type": "execute_result",
          "data": {
            "text/plain": [
              "array([], shape=(23, 0), dtype=int64)"
            ]
          },
          "metadata": {
            "tags": []
          },
          "execution_count": 49
        }
      ]
    },
    {
      "cell_type": "code",
      "metadata": {
        "colab": {
          "base_uri": "https://localhost:8080/"
        },
        "id": "haKILfwGS_NA",
        "outputId": "4dee161f-dcfd-440e-d67e-e615aae5b753"
      },
      "source": [
        "v"
      ],
      "execution_count": null,
      "outputs": [
        {
          "output_type": "execute_result",
          "data": {
            "text/plain": [
              "array([[ 0],\n",
              "       [ 0],\n",
              "       [ 0],\n",
              "       [ 1],\n",
              "       [ 2],\n",
              "       [ 3],\n",
              "       [ 4],\n",
              "       [ 5],\n",
              "       [ 6],\n",
              "       [ 7],\n",
              "       [ 8],\n",
              "       [ 9],\n",
              "       [10],\n",
              "       [11],\n",
              "       [12],\n",
              "       [13],\n",
              "       [14],\n",
              "       [15],\n",
              "       [16],\n",
              "       [17],\n",
              "       [18],\n",
              "       [19],\n",
              "       [20]])"
            ]
          },
          "metadata": {
            "tags": []
          },
          "execution_count": 50
        }
      ]
    },
    {
      "cell_type": "code",
      "metadata": {
        "colab": {
          "base_uri": "https://localhost:8080/",
          "height": 211
        },
        "id": "NW2UMm2fTDht",
        "outputId": "e364ab93-db69-4786-a054-cbea880631e3"
      },
      "source": [
        "v = np.delete(v [0])"
      ],
      "execution_count": null,
      "outputs": [
        {
          "output_type": "error",
          "ename": "TypeError",
          "evalue": "ignored",
          "traceback": [
            "\u001b[0;31m---------------------------------------------------------------------------\u001b[0m",
            "\u001b[0;31mTypeError\u001b[0m                                 Traceback (most recent call last)",
            "\u001b[0;32m<ipython-input-51-407503467eea>\u001b[0m in \u001b[0;36m<module>\u001b[0;34m()\u001b[0m\n\u001b[0;32m----> 1\u001b[0;31m \u001b[0mv\u001b[0m \u001b[0;34m=\u001b[0m \u001b[0mnp\u001b[0m\u001b[0;34m.\u001b[0m\u001b[0mdelete\u001b[0m\u001b[0;34m(\u001b[0m\u001b[0mv\u001b[0m \u001b[0;34m[\u001b[0m\u001b[0;36m0\u001b[0m\u001b[0;34m]\u001b[0m\u001b[0;34m)\u001b[0m\u001b[0;34m\u001b[0m\u001b[0;34m\u001b[0m\u001b[0m\n\u001b[0m",
            "\u001b[0;32m<__array_function__ internals>\u001b[0m in \u001b[0;36mdelete\u001b[0;34m(*args, **kwargs)\u001b[0m\n",
            "\u001b[0;31mTypeError\u001b[0m: _delete_dispatcher() missing 1 required positional argument: 'obj'"
          ]
        }
      ]
    },
    {
      "cell_type": "code",
      "metadata": {
        "colab": {
          "base_uri": "https://localhost:8080/"
        },
        "id": "az0iTUw-Uz50",
        "outputId": "5384a6db-652c-48f3-90ee-21cf980aa9c9"
      },
      "source": [
        "v"
      ],
      "execution_count": null,
      "outputs": [
        {
          "output_type": "execute_result",
          "data": {
            "text/plain": [
              "array([[ 0],\n",
              "       [ 0],\n",
              "       [ 0],\n",
              "       [ 1],\n",
              "       [ 2],\n",
              "       [ 3],\n",
              "       [ 4],\n",
              "       [ 5],\n",
              "       [ 6],\n",
              "       [ 7],\n",
              "       [ 8],\n",
              "       [ 9],\n",
              "       [10],\n",
              "       [11],\n",
              "       [12],\n",
              "       [13],\n",
              "       [14],\n",
              "       [15],\n",
              "       [16],\n",
              "       [17],\n",
              "       [18],\n",
              "       [19],\n",
              "       [20]])"
            ]
          },
          "metadata": {
            "tags": []
          },
          "execution_count": 52
        }
      ]
    },
    {
      "cell_type": "code",
      "metadata": {
        "id": "o4i2wQ1UU76c"
      },
      "source": [
        "np.random.seed(20)\n",
        "vetor = np.random.randint(low = 1, high = 150, size = 50)"
      ],
      "execution_count": 14,
      "outputs": []
    },
    {
      "cell_type": "code",
      "metadata": {
        "id": "38NoAy3Xdb0G",
        "colab": {
          "base_uri": "https://localhost:8080/"
        },
        "outputId": "e91e6f8f-f363-45a9-cad6-f1b3d9cd138e"
      },
      "source": [
        "vetor"
      ],
      "execution_count": 5,
      "outputs": [
        {
          "output_type": "execute_result",
          "data": {
            "text/plain": [
              "array([ 78, 140,  92, 139,  46, 102, 132,  97,  88,  61, 116,  22, 115,\n",
              "       141,  85,  74,  29,  99, 130, 122,  88,  87,  19,  52, 134, 143,\n",
              "       148, 125,  52,  25,  63,  20,  60,  58,  28, 106,   1,  10, 138,\n",
              "        69, 133, 117, 137,  19, 129,  75, 127,  91,  63,  88])"
            ]
          },
          "metadata": {
            "tags": []
          },
          "execution_count": 5
        }
      ]
    },
    {
      "cell_type": "code",
      "metadata": {
        "colab": {
          "base_uri": "https://localhost:8080/"
        },
        "id": "h7zm_8-ifkD8",
        "outputId": "398268b1-2b08-4e0f-da0e-1166dbbbe964"
      },
      "source": [
        "vetor.shape"
      ],
      "execution_count": 6,
      "outputs": [
        {
          "output_type": "execute_result",
          "data": {
            "text/plain": [
              "(50,)"
            ]
          },
          "metadata": {
            "tags": []
          },
          "execution_count": 6
        }
      ]
    },
    {
      "cell_type": "code",
      "metadata": {
        "colab": {
          "base_uri": "https://localhost:8080/"
        },
        "id": "HoDpx9mKfrYL",
        "outputId": "3c4cc196-461a-42aa-892d-e8ef86596692"
      },
      "source": [
        "vetor.min()"
      ],
      "execution_count": 7,
      "outputs": [
        {
          "output_type": "execute_result",
          "data": {
            "text/plain": [
              "1"
            ]
          },
          "metadata": {
            "tags": []
          },
          "execution_count": 7
        }
      ]
    },
    {
      "cell_type": "code",
      "metadata": {
        "colab": {
          "base_uri": "https://localhost:8080/"
        },
        "id": "17YjtNeofxvG",
        "outputId": "fee9e4dc-8872-4d8a-b18b-d553769398d9"
      },
      "source": [
        "vetor.max()"
      ],
      "execution_count": 8,
      "outputs": [
        {
          "output_type": "execute_result",
          "data": {
            "text/plain": [
              "148"
            ]
          },
          "metadata": {
            "tags": []
          },
          "execution_count": 8
        }
      ]
    },
    {
      "cell_type": "code",
      "metadata": {
        "colab": {
          "base_uri": "https://localhost:8080/"
        },
        "id": "O8qR2irIfzW-",
        "outputId": "075c2436-c5a2-4410-93ba-f00fac3c2fce"
      },
      "source": [
        "vetor.mean()"
      ],
      "execution_count": 9,
      "outputs": [
        {
          "output_type": "execute_result",
          "data": {
            "text/plain": [
              "86.26"
            ]
          },
          "metadata": {
            "tags": []
          },
          "execution_count": 9
        }
      ]
    },
    {
      "cell_type": "code",
      "metadata": {
        "colab": {
          "base_uri": "https://localhost:8080/"
        },
        "id": "NyCEEej1f4zf",
        "outputId": "4f71c2c8-4ef5-40d7-cb00-68cf2788fe54"
      },
      "source": [
        "vetor"
      ],
      "execution_count": 10,
      "outputs": [
        {
          "output_type": "execute_result",
          "data": {
            "text/plain": [
              "array([ 78, 140,  92, 139,  46, 102, 132,  97,  88,  61, 116,  22, 115,\n",
              "       141,  85,  74,  29,  99, 130, 122,  88,  87,  19,  52, 134, 143,\n",
              "       148, 125,  52,  25,  63,  20,  60,  58,  28, 106,   1,  10, 138,\n",
              "        69, 133, 117, 137,  19, 129,  75, 127,  91,  63,  88])"
            ]
          },
          "metadata": {
            "tags": []
          },
          "execution_count": 10
        }
      ]
    },
    {
      "cell_type": "code",
      "metadata": {
        "colab": {
          "base_uri": "https://localhost:8080/"
        },
        "id": "Iwx_3MMbgSah",
        "outputId": "dbf15bd8-b96c-437c-abe9-0f5d77f1e4d3"
      },
      "source": [
        "vetor"
      ],
      "execution_count": 12,
      "outputs": [
        {
          "output_type": "execute_result",
          "data": {
            "text/plain": [
              "array([101, 118,  70,  62,  78, 107, 119,  25, 107,   8,   9,  55,  68,\n",
              "        54,  28,  41, 105, 118,  52,  48,  66, 113, 101,   4,  63,  50,\n",
              "        94,  74, 117,  79,  89,  86,  54,  61,  29, 138, 124, 121, 142,\n",
              "       115,  56, 129,  13, 102, 112,   7,  52, 135,  38,  44])"
            ]
          },
          "metadata": {
            "tags": []
          },
          "execution_count": 12
        }
      ]
    },
    {
      "cell_type": "code",
      "metadata": {
        "id": "WZYt-lF4gX6B"
      },
      "source": [
        ""
      ],
      "execution_count": null,
      "outputs": []
    },
    {
      "cell_type": "code",
      "metadata": {
        "id": "PtSnvm_siiFS"
      },
      "source": [
        "np.random.seed(20)\n",
        "n = 30\n",
        "vetor2 = np.random.randint(low = 1, high = 150, size = n).reshape(-1,1)"
      ],
      "execution_count": 20,
      "outputs": []
    },
    {
      "cell_type": "code",
      "metadata": {
        "colab": {
          "base_uri": "https://localhost:8080/"
        },
        "id": "bXrh4xYzjs1v",
        "outputId": "07321dba-6fdf-480b-e9be-14b0e1cc3daa"
      },
      "source": [
        "vetor2"
      ],
      "execution_count": 18,
      "outputs": [
        {
          "output_type": "execute_result",
          "data": {
            "text/plain": [
              "array([[100],\n",
              "       [ 16],\n",
              "       [138],\n",
              "       [149],\n",
              "       [ 76],\n",
              "       [ 23],\n",
              "       [ 72],\n",
              "       [119],\n",
              "       [ 41],\n",
              "       [ 27],\n",
              "       [ 17],\n",
              "       [145],\n",
              "       [106],\n",
              "       [102],\n",
              "       [  8],\n",
              "       [  7],\n",
              "       [ 27],\n",
              "       [142],\n",
              "       [ 26],\n",
              "       [132],\n",
              "       [ 62],\n",
              "       [ 84],\n",
              "       [111],\n",
              "       [ 33],\n",
              "       [ 11],\n",
              "       [  7],\n",
              "       [ 76],\n",
              "       [ 19],\n",
              "       [  4],\n",
              "       [146]])"
            ]
          },
          "metadata": {
            "tags": []
          },
          "execution_count": 18
        }
      ]
    },
    {
      "cell_type": "code",
      "metadata": {
        "id": "ZhcU4VWWjxwL"
      },
      "source": [
        "n = 100\n",
        "matrix = np.random.randint(low = 50, high = 2500, size = (n, 5))\n",
        "colunas = list('ABCDE')"
      ],
      "execution_count": 6,
      "outputs": []
    },
    {
      "cell_type": "code",
      "metadata": {
        "colab": {
          "base_uri": "https://localhost:8080/"
        },
        "id": "l1lcYf7Sljlu",
        "outputId": "3ba6d42d-8fce-4592-b95d-a8668a473487"
      },
      "source": [
        "matrix"
      ],
      "execution_count": 7,
      "outputs": [
        {
          "output_type": "execute_result",
          "data": {
            "text/plain": [
              "array([[1485, 1481, 1500, 1449, 1495],\n",
              "       [ 293, 2344,  923, 1077, 1519],\n",
              "       [2340, 2231, 2188, 1124,   50],\n",
              "       [2272, 1295,  370,  933, 2173],\n",
              "       [ 116,  393,  647, 1825, 1772],\n",
              "       [1776, 2310, 2461,  272, 1100],\n",
              "       [ 954, 2324, 1817, 1879, 1735],\n",
              "       [1893,  639,  702, 1248,  365],\n",
              "       [2273, 1429, 1931, 1288, 1056],\n",
              "       [2115, 1600,  244, 1511,  256],\n",
              "       [1939,  518,  249, 2453, 2022],\n",
              "       [ 516, 1892, 2099,  640, 1345],\n",
              "       [2145, 1821, 1600, 1955, 2493],\n",
              "       [1318, 1370, 1878, 1695, 1868],\n",
              "       [1171, 2277,  115, 1335, 1575],\n",
              "       [1028,  831, 1112,  751,  897],\n",
              "       [ 746, 1468, 2321,  970, 1317],\n",
              "       [2219, 1590,  370, 1757, 2308],\n",
              "       [2043, 2442,  653, 2091, 1495],\n",
              "       [1602, 2179,  125,  787, 2049],\n",
              "       [1715, 2183, 2092,  700,  172],\n",
              "       [1819,  698, 1899, 1998, 1181],\n",
              "       [2205, 2210, 1605, 1454, 1266],\n",
              "       [1921, 2352, 2490, 1492, 2371],\n",
              "       [ 364, 1511,  577,  802,  771],\n",
              "       [ 508, 1612,  674, 1679, 1587],\n",
              "       [ 479,  429, 1391, 1948,  102],\n",
              "       [ 382, 2205, 1930, 1505, 1191],\n",
              "       [  52, 2260,  480,  526,  287],\n",
              "       [1454, 2205,  496, 1066,  399],\n",
              "       [1467, 1490, 2040,  138, 1823],\n",
              "       [1577, 2041,   94, 2027,  375],\n",
              "       [  59,  104,  512, 1519, 1097],\n",
              "       [ 109, 2215,  635, 2006, 2237],\n",
              "       [1071,  850, 1471,  971, 1595],\n",
              "       [1208,  360,  763, 1537,  517],\n",
              "       [2058, 1475,  682, 1473, 1150],\n",
              "       [1875,  481,  525, 1776,  256],\n",
              "       [2374, 1263, 1342,  293,   67],\n",
              "       [1053, 1951,  471,  618, 2384],\n",
              "       [1529,  686, 1304,  242, 1171],\n",
              "       [2457, 1007, 1987, 1719,  121],\n",
              "       [2036, 1527, 2157,  856, 1128],\n",
              "       [ 646, 1545, 1887,  627, 1183],\n",
              "       [ 809, 2074, 1124,   68, 1300],\n",
              "       [1515, 2148,  438,  393,  196],\n",
              "       [ 979, 1243, 2153, 1542,   99],\n",
              "       [1886, 1178, 2401, 2117,  546],\n",
              "       [ 237,  751,  411,  324,  298],\n",
              "       [1944,  417, 1755, 1635, 2450],\n",
              "       [1632, 2092, 1554,  353, 2482],\n",
              "       [1253,  424,  326,  966,  170],\n",
              "       [1644, 2144,  332, 1027,  245],\n",
              "       [1196,  710, 1051,  282, 1367],\n",
              "       [ 491, 1342, 1190, 2302, 1898],\n",
              "       [1131, 2496,  910,  421, 1011],\n",
              "       [ 678,  427, 1680,  768, 1282],\n",
              "       [1893, 2340,  771, 1636, 1469],\n",
              "       [ 796, 2228, 1154, 1393, 1045],\n",
              "       [ 459,   80, 2238, 2341,  893],\n",
              "       [ 319, 1375, 1771, 2123, 1102],\n",
              "       [ 233, 1162,  546,  944,  647],\n",
              "       [1110, 2404, 1755, 1851, 2147],\n",
              "       [ 589,  524, 1988, 1565,  421],\n",
              "       [  94, 1419, 2199, 1124,  713],\n",
              "       [2390, 1850, 1794,  489, 1187],\n",
              "       [1655, 1527,  546, 2017, 2462],\n",
              "       [ 283,  790, 1214,  937,  277],\n",
              "       [1029, 1700,  794, 1964, 1371],\n",
              "       [ 327, 1768, 2065,  842,  180],\n",
              "       [ 499,  944, 2326,   87,  498],\n",
              "       [ 929, 1921,  288,  294, 1809],\n",
              "       [1608, 2449, 2202,  765, 2235],\n",
              "       [ 972, 1893,  194, 2427, 1490],\n",
              "       [ 902, 1659, 1919, 2260, 1017],\n",
              "       [2109,  749, 1907, 1651,  527],\n",
              "       [2038,  104, 1370, 1572,  791],\n",
              "       [ 483, 2159,  964,  725, 1537],\n",
              "       [1580,  470, 1545, 2142, 2331],\n",
              "       [ 421,  617, 1885,  874,  329],\n",
              "       [1715,  318, 2315,  873, 1012],\n",
              "       [ 380, 1755, 1338, 2168, 1217],\n",
              "       [ 759, 1538,  420,  940,  772],\n",
              "       [1663, 2426,  387, 1739, 1571],\n",
              "       [ 580, 1552,  350, 1194, 1722],\n",
              "       [ 801, 1342, 1647, 1173, 2323],\n",
              "       [ 902,  728,  697,  626,  408],\n",
              "       [ 747, 1114, 1821, 1642, 2488],\n",
              "       [2496, 2105, 1997,  666, 2307],\n",
              "       [ 534, 1500, 1889, 2024,  512],\n",
              "       [  73, 2198,  181,  565, 2333],\n",
              "       [1945, 1513, 1413, 1309, 2219],\n",
              "       [ 216, 2351, 1712, 1259, 2134],\n",
              "       [1464, 1488, 1648, 2499, 1118],\n",
              "       [1745, 1980, 1844,  370,  482],\n",
              "       [2207, 1180,  805, 1844, 1980],\n",
              "       [ 528, 1665,  270, 2268, 2474],\n",
              "       [ 440, 2422,  953,  186,  233],\n",
              "       [1737,  140, 1256, 1546, 1416],\n",
              "       [ 169, 1971,  976, 2164, 2134]])"
            ]
          },
          "metadata": {
            "tags": []
          },
          "execution_count": 7
        }
      ]
    },
    {
      "cell_type": "code",
      "metadata": {
        "id": "RgD-12Oglk0-"
      },
      "source": [
        "df = pd.DataFrame(matrix, columns = colunas, index = range(1, n+1))"
      ],
      "execution_count": 8,
      "outputs": []
    },
    {
      "cell_type": "code",
      "metadata": {
        "colab": {
          "base_uri": "https://localhost:8080/",
          "height": 363
        },
        "id": "TSZhmMr-oWna",
        "outputId": "24de64a9-a708-4f54-8fc1-d578179106da"
      },
      "source": [
        "df.head(10)"
      ],
      "execution_count": 9,
      "outputs": [
        {
          "output_type": "execute_result",
          "data": {
            "text/html": [
              "<div>\n",
              "<style scoped>\n",
              "    .dataframe tbody tr th:only-of-type {\n",
              "        vertical-align: middle;\n",
              "    }\n",
              "\n",
              "    .dataframe tbody tr th {\n",
              "        vertical-align: top;\n",
              "    }\n",
              "\n",
              "    .dataframe thead th {\n",
              "        text-align: right;\n",
              "    }\n",
              "</style>\n",
              "<table border=\"1\" class=\"dataframe\">\n",
              "  <thead>\n",
              "    <tr style=\"text-align: right;\">\n",
              "      <th></th>\n",
              "      <th>A</th>\n",
              "      <th>B</th>\n",
              "      <th>C</th>\n",
              "      <th>D</th>\n",
              "      <th>E</th>\n",
              "    </tr>\n",
              "  </thead>\n",
              "  <tbody>\n",
              "    <tr>\n",
              "      <th>1</th>\n",
              "      <td>1485</td>\n",
              "      <td>1481</td>\n",
              "      <td>1500</td>\n",
              "      <td>1449</td>\n",
              "      <td>1495</td>\n",
              "    </tr>\n",
              "    <tr>\n",
              "      <th>2</th>\n",
              "      <td>293</td>\n",
              "      <td>2344</td>\n",
              "      <td>923</td>\n",
              "      <td>1077</td>\n",
              "      <td>1519</td>\n",
              "    </tr>\n",
              "    <tr>\n",
              "      <th>3</th>\n",
              "      <td>2340</td>\n",
              "      <td>2231</td>\n",
              "      <td>2188</td>\n",
              "      <td>1124</td>\n",
              "      <td>50</td>\n",
              "    </tr>\n",
              "    <tr>\n",
              "      <th>4</th>\n",
              "      <td>2272</td>\n",
              "      <td>1295</td>\n",
              "      <td>370</td>\n",
              "      <td>933</td>\n",
              "      <td>2173</td>\n",
              "    </tr>\n",
              "    <tr>\n",
              "      <th>5</th>\n",
              "      <td>116</td>\n",
              "      <td>393</td>\n",
              "      <td>647</td>\n",
              "      <td>1825</td>\n",
              "      <td>1772</td>\n",
              "    </tr>\n",
              "    <tr>\n",
              "      <th>6</th>\n",
              "      <td>1776</td>\n",
              "      <td>2310</td>\n",
              "      <td>2461</td>\n",
              "      <td>272</td>\n",
              "      <td>1100</td>\n",
              "    </tr>\n",
              "    <tr>\n",
              "      <th>7</th>\n",
              "      <td>954</td>\n",
              "      <td>2324</td>\n",
              "      <td>1817</td>\n",
              "      <td>1879</td>\n",
              "      <td>1735</td>\n",
              "    </tr>\n",
              "    <tr>\n",
              "      <th>8</th>\n",
              "      <td>1893</td>\n",
              "      <td>639</td>\n",
              "      <td>702</td>\n",
              "      <td>1248</td>\n",
              "      <td>365</td>\n",
              "    </tr>\n",
              "    <tr>\n",
              "      <th>9</th>\n",
              "      <td>2273</td>\n",
              "      <td>1429</td>\n",
              "      <td>1931</td>\n",
              "      <td>1288</td>\n",
              "      <td>1056</td>\n",
              "    </tr>\n",
              "    <tr>\n",
              "      <th>10</th>\n",
              "      <td>2115</td>\n",
              "      <td>1600</td>\n",
              "      <td>244</td>\n",
              "      <td>1511</td>\n",
              "      <td>256</td>\n",
              "    </tr>\n",
              "  </tbody>\n",
              "</table>\n",
              "</div>"
            ],
            "text/plain": [
              "       A     B     C     D     E\n",
              "1   1485  1481  1500  1449  1495\n",
              "2    293  2344   923  1077  1519\n",
              "3   2340  2231  2188  1124    50\n",
              "4   2272  1295   370   933  2173\n",
              "5    116   393   647  1825  1772\n",
              "6   1776  2310  2461   272  1100\n",
              "7    954  2324  1817  1879  1735\n",
              "8   1893   639   702  1248   365\n",
              "9   2273  1429  1931  1288  1056\n",
              "10  2115  1600   244  1511   256"
            ]
          },
          "metadata": {
            "tags": []
          },
          "execution_count": 9
        }
      ]
    },
    {
      "cell_type": "code",
      "metadata": {
        "colab": {
          "base_uri": "https://localhost:8080/",
          "height": 309
        },
        "id": "nMesyeCclRlr",
        "outputId": "419e537f-8eb3-4982-adf8-f97ef8f588a3"
      },
      "source": [
        "plt.figure(figsize = (12, 4))\n",
        "df['A'].plot(color = 'red', lw =1.2, marker = 'o', markersize =3)\n",
        "df ['A'].plot()\n",
        "plt.xlabel('Eixo X')\n",
        "plt.ylabel('Eixo Y')\n",
        "plt.title('Series', fontsize = 20, pad = 15)\n",
        "plt.grid(alpha = 0.5, linestyle = '--');"
      ],
      "execution_count": 23,
      "outputs": [
        {
          "output_type": "display_data",
          "data": {
            "image/png": "[encoded data removed]",
            "text/plain": [
              "<Figure size 864x288 with 1 Axes>"
            ]
          },
          "metadata": {
            "tags": [],
            "needs_background": "light"
          }
        }
      ]
    },
    {
      "cell_type": "code",
      "metadata": {
        "id": "-mlY7tMnmrFT"
      },
      "source": [
        ""
      ],
      "execution_count": null,
      "outputs": []
    }
  ]
}